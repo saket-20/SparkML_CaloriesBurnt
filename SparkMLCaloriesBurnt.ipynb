{
  "nbformat": 4,
  "nbformat_minor": 0,
  "metadata": {
    "colab": {
      "name": "SparkMLCaloriesBurnt.ipynb",
      "provenance": [],
      "collapsed_sections": [],
      "authorship_tag": "ABX9TyPoB6LGAILSuLX1sXYzPSPt",
      "include_colab_link": true
    },
    "kernelspec": {
      "name": "python3",
      "display_name": "Python 3"
    },
    "language_info": {
      "name": "python"
    }
  },
  "cells": [
    {
      "cell_type": "markdown",
      "metadata": {
        "id": "view-in-github",
        "colab_type": "text"
      },
      "source": [
        "<a href=\"https://colab.research.google.com/github/saket-20/SparkML_CaloriesBurnt/blob/main/SparkMLCaloriesBurnt.ipynb\" target=\"_parent\"><img src=\"https://colab.research.google.com/assets/colab-badge.svg\" alt=\"Open In Colab\"/></a>"
      ]
    },
    {
      "cell_type": "code",
      "metadata": {
        "colab": {
          "base_uri": "https://localhost:8080/"
        },
        "id": "v3KetUCCht3b",
        "outputId": "b04194e3-5b03-46d0-e7db-eab7bfcfc818"
      },
      "source": [
        "!pip install pyspark"
      ],
      "execution_count": 2,
      "outputs": [
        {
          "output_type": "stream",
          "name": "stdout",
          "text": [
            "Collecting pyspark\n",
            "  Downloading pyspark-3.2.0.tar.gz (281.3 MB)\n",
            "\u001b[K     |████████████████████████████████| 281.3 MB 37 kB/s \n",
            "\u001b[?25hCollecting py4j==0.10.9.2\n",
            "  Downloading py4j-0.10.9.2-py2.py3-none-any.whl (198 kB)\n",
            "\u001b[K     |████████████████████████████████| 198 kB 51.6 MB/s \n",
            "\u001b[?25hBuilding wheels for collected packages: pyspark\n",
            "  Building wheel for pyspark (setup.py) ... \u001b[?25l\u001b[?25hdone\n",
            "  Created wheel for pyspark: filename=pyspark-3.2.0-py2.py3-none-any.whl size=281805912 sha256=66a4a2902e7c3c94ce12f08229a5c0d8e706bfffe7d312050e57e9af50dc9bed\n",
            "  Stored in directory: /root/.cache/pip/wheels/0b/de/d2/9be5d59d7331c6c2a7c1b6d1a4f463ce107332b1ecd4e80718\n",
            "Successfully built pyspark\n",
            "Installing collected packages: py4j, pyspark\n",
            "Successfully installed py4j-0.10.9.2 pyspark-3.2.0\n"
          ]
        }
      ]
    },
    {
      "cell_type": "code",
      "metadata": {
        "id": "6wf764JRNT1k"
      },
      "source": [
        ""
      ],
      "execution_count": 2,
      "outputs": []
    },
    {
      "cell_type": "code",
      "metadata": {
        "id": "-iBFvv8Ff5xA",
        "colab": {
          "base_uri": "https://localhost:8080/"
        },
        "outputId": "2c3efdae-a95a-4e52-ab16-961eda737175"
      },
      "source": [
        "from pyspark.sql import SparkSession\n",
        "spark = SparkSession.builder.appName('data').getOrCreate()\n",
        "caloriedf = spark.read.csv('exercise.csv',inferSchema=True,header=True)\n",
        "caloriedf.show()"
      ],
      "execution_count": 3,
      "outputs": [
        {
          "output_type": "stream",
          "name": "stdout",
          "text": [
            "+--------+------+---+------+------+--------+----------+---------+--------+\n",
            "| User_ID|Gender|Age|Height|Weight|Duration|Heart_Rate|Body_Temp|Calories|\n",
            "+--------+------+---+------+------+--------+----------+---------+--------+\n",
            "|14733363|  male| 68|   190|    94|      29|       105|     40.8|     231|\n",
            "|14861698|female| 20|   166|    60|      14|        94|     40.3|      66|\n",
            "|11179863|  male| 69|   179|    79|       5|        88|     38.7|      26|\n",
            "|16180408|female| 34|   179|    71|      13|       100|     40.5|      71|\n",
            "|17771927|female| 27|   154|    58|      10|        81|     39.8|      35|\n",
            "|15130815|female| 36|   151|    50|      23|        96|     40.7|     123|\n",
            "|19602372|female| 33|   158|    56|      22|        95|     40.5|     112|\n",
            "|11117088|  male| 41|   175|    85|      25|       100|     40.7|     143|\n",
            "|12132339|  male| 60|   186|    94|      21|        97|     40.4|     134|\n",
            "|17964668|female| 26|   146|    51|      16|        90|     40.2|      72|\n",
            "|13723164|female| 36|   177|    76|       1|        74|     37.8|       3|\n",
            "|13681290|female| 21|   157|    56|      17|       100|     40.0|      92|\n",
            "|15566424|  male| 66|   171|    79|      11|        90|     40.0|      58|\n",
            "|12891699|female| 32|   157|    54|      18|        93|     40.4|      88|\n",
            "|13823829|  male| 53|   182|    85|       2|        82|     38.1|       7|\n",
            "|17557348|female| 39|   156|    62|      28|       104|     40.8|     170|\n",
            "|12198133|  male| 39|   182|    82|       4|        82|     38.6|      11|\n",
            "|15236104|  male| 46|   169|    67|      11|        89|     40.2|      43|\n",
            "|11042324|female| 27|   171|    65|       4|        85|     38.6|      15|\n",
            "|16864285|  male| 50|   188|    86|      14|        94|     40.2|      74|\n",
            "+--------+------+---+------+------+--------+----------+---------+--------+\n",
            "only showing top 20 rows\n",
            "\n"
          ]
        }
      ]
    },
    {
      "cell_type": "code",
      "metadata": {
        "id": "T16poC4LNUti"
      },
      "source": [
        "from pyspark.ml.feature import StandardScaler"
      ],
      "execution_count": 4,
      "outputs": []
    },
    {
      "cell_type": "code",
      "metadata": {
        "id": "z4vz3BdyOBj2",
        "colab": {
          "base_uri": "https://localhost:8080/"
        },
        "outputId": "8ceb73e4-ee92-4691-e793-b48fbc408609"
      },
      "source": [
        "type(caloriedf)"
      ],
      "execution_count": 5,
      "outputs": [
        {
          "output_type": "execute_result",
          "data": {
            "text/plain": [
              "pyspark.sql.dataframe.DataFrame"
            ]
          },
          "metadata": {},
          "execution_count": 5
        }
      ]
    },
    {
      "cell_type": "code",
      "metadata": {
        "colab": {
          "base_uri": "https://localhost:8080/"
        },
        "id": "qco4augSjJWl",
        "outputId": "11207896-8bf2-46b9-9ddc-813d4cb74305"
      },
      "source": [
        " caloriedf.printSchema()"
      ],
      "execution_count": 6,
      "outputs": [
        {
          "output_type": "stream",
          "name": "stdout",
          "text": [
            "root\n",
            " |-- User_ID: integer (nullable = true)\n",
            " |-- Gender: string (nullable = true)\n",
            " |-- Age: integer (nullable = true)\n",
            " |-- Height: integer (nullable = true)\n",
            " |-- Weight: integer (nullable = true)\n",
            " |-- Duration: integer (nullable = true)\n",
            " |-- Heart_Rate: integer (nullable = true)\n",
            " |-- Body_Temp: double (nullable = true)\n",
            " |-- Calories: integer (nullable = true)\n",
            "\n"
          ]
        }
      ]
    },
    {
      "cell_type": "code",
      "metadata": {
        "id": "6-xYc9F8TGFV"
      },
      "source": [
        "calorie_pd=caloriedf.toPandas()"
      ],
      "execution_count": 7,
      "outputs": []
    },
    {
      "cell_type": "code",
      "metadata": {
        "id": "ZEtp_67n8hpv",
        "colab": {
          "base_uri": "https://localhost:8080/",
          "height": 417
        },
        "outputId": "75fa10fe-5c67-47fb-b6c6-948ca173e795"
      },
      "source": [
        "calorie_pd"
      ],
      "execution_count": 8,
      "outputs": [
        {
          "output_type": "execute_result",
          "data": {
            "text/html": [
              "<div>\n",
              "<style scoped>\n",
              "    .dataframe tbody tr th:only-of-type {\n",
              "        vertical-align: middle;\n",
              "    }\n",
              "\n",
              "    .dataframe tbody tr th {\n",
              "        vertical-align: top;\n",
              "    }\n",
              "\n",
              "    .dataframe thead th {\n",
              "        text-align: right;\n",
              "    }\n",
              "</style>\n",
              "<table border=\"1\" class=\"dataframe\">\n",
              "  <thead>\n",
              "    <tr style=\"text-align: right;\">\n",
              "      <th></th>\n",
              "      <th>User_ID</th>\n",
              "      <th>Gender</th>\n",
              "      <th>Age</th>\n",
              "      <th>Height</th>\n",
              "      <th>Weight</th>\n",
              "      <th>Duration</th>\n",
              "      <th>Heart_Rate</th>\n",
              "      <th>Body_Temp</th>\n",
              "      <th>Calories</th>\n",
              "    </tr>\n",
              "  </thead>\n",
              "  <tbody>\n",
              "    <tr>\n",
              "      <th>0</th>\n",
              "      <td>14733363</td>\n",
              "      <td>male</td>\n",
              "      <td>68</td>\n",
              "      <td>190</td>\n",
              "      <td>94</td>\n",
              "      <td>29</td>\n",
              "      <td>105</td>\n",
              "      <td>40.8</td>\n",
              "      <td>231</td>\n",
              "    </tr>\n",
              "    <tr>\n",
              "      <th>1</th>\n",
              "      <td>14861698</td>\n",
              "      <td>female</td>\n",
              "      <td>20</td>\n",
              "      <td>166</td>\n",
              "      <td>60</td>\n",
              "      <td>14</td>\n",
              "      <td>94</td>\n",
              "      <td>40.3</td>\n",
              "      <td>66</td>\n",
              "    </tr>\n",
              "    <tr>\n",
              "      <th>2</th>\n",
              "      <td>11179863</td>\n",
              "      <td>male</td>\n",
              "      <td>69</td>\n",
              "      <td>179</td>\n",
              "      <td>79</td>\n",
              "      <td>5</td>\n",
              "      <td>88</td>\n",
              "      <td>38.7</td>\n",
              "      <td>26</td>\n",
              "    </tr>\n",
              "    <tr>\n",
              "      <th>3</th>\n",
              "      <td>16180408</td>\n",
              "      <td>female</td>\n",
              "      <td>34</td>\n",
              "      <td>179</td>\n",
              "      <td>71</td>\n",
              "      <td>13</td>\n",
              "      <td>100</td>\n",
              "      <td>40.5</td>\n",
              "      <td>71</td>\n",
              "    </tr>\n",
              "    <tr>\n",
              "      <th>4</th>\n",
              "      <td>17771927</td>\n",
              "      <td>female</td>\n",
              "      <td>27</td>\n",
              "      <td>154</td>\n",
              "      <td>58</td>\n",
              "      <td>10</td>\n",
              "      <td>81</td>\n",
              "      <td>39.8</td>\n",
              "      <td>35</td>\n",
              "    </tr>\n",
              "    <tr>\n",
              "      <th>...</th>\n",
              "      <td>...</td>\n",
              "      <td>...</td>\n",
              "      <td>...</td>\n",
              "      <td>...</td>\n",
              "      <td>...</td>\n",
              "      <td>...</td>\n",
              "      <td>...</td>\n",
              "      <td>...</td>\n",
              "      <td>...</td>\n",
              "    </tr>\n",
              "    <tr>\n",
              "      <th>14995</th>\n",
              "      <td>15644082</td>\n",
              "      <td>female</td>\n",
              "      <td>20</td>\n",
              "      <td>193</td>\n",
              "      <td>86</td>\n",
              "      <td>11</td>\n",
              "      <td>92</td>\n",
              "      <td>40.4</td>\n",
              "      <td>45</td>\n",
              "    </tr>\n",
              "    <tr>\n",
              "      <th>14996</th>\n",
              "      <td>17212577</td>\n",
              "      <td>female</td>\n",
              "      <td>27</td>\n",
              "      <td>165</td>\n",
              "      <td>65</td>\n",
              "      <td>6</td>\n",
              "      <td>85</td>\n",
              "      <td>39.2</td>\n",
              "      <td>23</td>\n",
              "    </tr>\n",
              "    <tr>\n",
              "      <th>14997</th>\n",
              "      <td>17271188</td>\n",
              "      <td>female</td>\n",
              "      <td>43</td>\n",
              "      <td>159</td>\n",
              "      <td>58</td>\n",
              "      <td>16</td>\n",
              "      <td>90</td>\n",
              "      <td>40.1</td>\n",
              "      <td>75</td>\n",
              "    </tr>\n",
              "    <tr>\n",
              "      <th>14998</th>\n",
              "      <td>18643037</td>\n",
              "      <td>male</td>\n",
              "      <td>78</td>\n",
              "      <td>193</td>\n",
              "      <td>97</td>\n",
              "      <td>2</td>\n",
              "      <td>84</td>\n",
              "      <td>38.3</td>\n",
              "      <td>11</td>\n",
              "    </tr>\n",
              "    <tr>\n",
              "      <th>14999</th>\n",
              "      <td>11751526</td>\n",
              "      <td>male</td>\n",
              "      <td>63</td>\n",
              "      <td>173</td>\n",
              "      <td>79</td>\n",
              "      <td>18</td>\n",
              "      <td>92</td>\n",
              "      <td>40.5</td>\n",
              "      <td>98</td>\n",
              "    </tr>\n",
              "  </tbody>\n",
              "</table>\n",
              "<p>15000 rows × 9 columns</p>\n",
              "</div>"
            ],
            "text/plain": [
              "        User_ID  Gender  Age  Height  ...  Duration  Heart_Rate  Body_Temp  Calories\n",
              "0      14733363    male   68     190  ...        29         105       40.8       231\n",
              "1      14861698  female   20     166  ...        14          94       40.3        66\n",
              "2      11179863    male   69     179  ...         5          88       38.7        26\n",
              "3      16180408  female   34     179  ...        13         100       40.5        71\n",
              "4      17771927  female   27     154  ...        10          81       39.8        35\n",
              "...         ...     ...  ...     ...  ...       ...         ...        ...       ...\n",
              "14995  15644082  female   20     193  ...        11          92       40.4        45\n",
              "14996  17212577  female   27     165  ...         6          85       39.2        23\n",
              "14997  17271188  female   43     159  ...        16          90       40.1        75\n",
              "14998  18643037    male   78     193  ...         2          84       38.3        11\n",
              "14999  11751526    male   63     173  ...        18          92       40.5        98\n",
              "\n",
              "[15000 rows x 9 columns]"
            ]
          },
          "metadata": {},
          "execution_count": 8
        }
      ]
    },
    {
      "cell_type": "code",
      "metadata": {
        "id": "rFj7J69uTRUA"
      },
      "source": [
        "import seaborn as sns"
      ],
      "execution_count": 9,
      "outputs": []
    },
    {
      "cell_type": "code",
      "metadata": {
        "colab": {
          "base_uri": "https://localhost:8080/",
          "height": 386
        },
        "id": "gCpOKInLTtnD",
        "outputId": "59f685ff-4c91-45e7-b5ce-9f91adc9ea25"
      },
      "source": [
        "sns.lmplot(x=\"Duration\",y=\"Calories\",data=calorie_pd)"
      ],
      "execution_count": 10,
      "outputs": [
        {
          "output_type": "execute_result",
          "data": {
            "text/plain": [
              "<seaborn.axisgrid.FacetGrid at 0x7fdbd67db9d0>"
            ]
          },
          "metadata": {},
          "execution_count": 10
        },
        {
          "output_type": "display_data",
          "data": {
            "image/png": "[encoded data removed]",
            "text/plain": [
              "<Figure size 360x360 with 1 Axes>"
            ]
          },
          "metadata": {
            "needs_background": "light"
          }
        }
      ]
    },
    {
      "cell_type": "code",
      "metadata": {
        "colab": {
          "base_uri": "https://localhost:8080/",
          "height": 386
        },
        "id": "i7X0ghwSVd62",
        "outputId": "17d0030e-3abc-472f-85df-cb9ddba972ed"
      },
      "source": [
        "sns.lmplot(x=\"Heart_Rate\",y=\"Calories\",data=calorie_pd)"
      ],
      "execution_count": 11,
      "outputs": [
        {
          "output_type": "execute_result",
          "data": {
            "text/plain": [
              "<seaborn.axisgrid.FacetGrid at 0x7fdbcdee18d0>"
            ]
          },
          "metadata": {},
          "execution_count": 11
        },
        {
          "output_type": "display_data",
          "data": {
            "image/png": "[encoded data removed]",
            "text/plain": [
              "<Figure size 360x360 with 1 Axes>"
            ]
          },
          "metadata": {
            "needs_background": "light"
          }
        }
      ]
    },
    {
      "cell_type": "code",
      "metadata": {
        "colab": {
          "base_uri": "https://localhost:8080/",
          "height": 386
        },
        "id": "u9yf9nE_VkZw",
        "outputId": "0f9d5806-2bd1-4723-c03a-9b9c502caed2"
      },
      "source": [
        "sns.lmplot(x=\"Body_Temp\",y=\"Calories\",data=calorie_pd)"
      ],
      "execution_count": 12,
      "outputs": [
        {
          "output_type": "execute_result",
          "data": {
            "text/plain": [
              "<seaborn.axisgrid.FacetGrid at 0x7fdbcd9ba890>"
            ]
          },
          "metadata": {},
          "execution_count": 12
        },
        {
          "output_type": "display_data",
          "data": {
            "image/png": "[encoded data removed]",
            "text/plain": [
              "<Figure size 360x360 with 1 Axes>"
            ]
          },
          "metadata": {
            "needs_background": "light"
          }
        }
      ]
    },
    {
      "cell_type": "code",
      "metadata": {
        "colab": {
          "base_uri": "https://localhost:8080/",
          "height": 386
        },
        "id": "cV7RZ1chV0Ii",
        "outputId": "c72b05c6-e6f7-4e80-954d-007c715a310c"
      },
      "source": [
        "sns.lmplot(x=\"Weight\",y=\"Calories\",data=calorie_pd)"
      ],
      "execution_count": 13,
      "outputs": [
        {
          "output_type": "execute_result",
          "data": {
            "text/plain": [
              "<seaborn.axisgrid.FacetGrid at 0x7fdbcd98e310>"
            ]
          },
          "metadata": {},
          "execution_count": 13
        },
        {
          "output_type": "display_data",
          "data": {
            "image/png": "[encoded data removed]",
            "text/plain": [
              "<Figure size 360x360 with 1 Axes>"
            ]
          },
          "metadata": {
            "needs_background": "light"
          }
        }
      ]
    },
    {
      "cell_type": "code",
      "metadata": {
        "id": "GSk_BoHtV9DJ"
      },
      "source": [
        ""
      ],
      "execution_count": null,
      "outputs": []
    },
    {
      "cell_type": "code",
      "metadata": {
        "colab": {
          "base_uri": "https://localhost:8080/"
        },
        "id": "5S2TO2rp_sON",
        "outputId": "f3f54c55-8f91-47f1-d5d6-03d9b4a8e0ea"
      },
      "source": [
        "caloriedf=caloriedf.replace(\"male\",\"0\")\n",
        "caloriedf=caloriedf.replace(\"female\",\"1\")\n",
        "caloriedf.show()"
      ],
      "execution_count": 14,
      "outputs": [
        {
          "output_type": "stream",
          "name": "stdout",
          "text": [
            "+--------+------+---+------+------+--------+----------+---------+--------+\n",
            "| User_ID|Gender|Age|Height|Weight|Duration|Heart_Rate|Body_Temp|Calories|\n",
            "+--------+------+---+------+------+--------+----------+---------+--------+\n",
            "|14733363|     0| 68|   190|    94|      29|       105|     40.8|     231|\n",
            "|14861698|     1| 20|   166|    60|      14|        94|     40.3|      66|\n",
            "|11179863|     0| 69|   179|    79|       5|        88|     38.7|      26|\n",
            "|16180408|     1| 34|   179|    71|      13|       100|     40.5|      71|\n",
            "|17771927|     1| 27|   154|    58|      10|        81|     39.8|      35|\n",
            "|15130815|     1| 36|   151|    50|      23|        96|     40.7|     123|\n",
            "|19602372|     1| 33|   158|    56|      22|        95|     40.5|     112|\n",
            "|11117088|     0| 41|   175|    85|      25|       100|     40.7|     143|\n",
            "|12132339|     0| 60|   186|    94|      21|        97|     40.4|     134|\n",
            "|17964668|     1| 26|   146|    51|      16|        90|     40.2|      72|\n",
            "|13723164|     1| 36|   177|    76|       1|        74|     37.8|       3|\n",
            "|13681290|     1| 21|   157|    56|      17|       100|     40.0|      92|\n",
            "|15566424|     0| 66|   171|    79|      11|        90|     40.0|      58|\n",
            "|12891699|     1| 32|   157|    54|      18|        93|     40.4|      88|\n",
            "|13823829|     0| 53|   182|    85|       2|        82|     38.1|       7|\n",
            "|17557348|     1| 39|   156|    62|      28|       104|     40.8|     170|\n",
            "|12198133|     0| 39|   182|    82|       4|        82|     38.6|      11|\n",
            "|15236104|     0| 46|   169|    67|      11|        89|     40.2|      43|\n",
            "|11042324|     1| 27|   171|    65|       4|        85|     38.6|      15|\n",
            "|16864285|     0| 50|   188|    86|      14|        94|     40.2|      74|\n",
            "+--------+------+---+------+------+--------+----------+---------+--------+\n",
            "only showing top 20 rows\n",
            "\n"
          ]
        }
      ]
    },
    {
      "cell_type": "code",
      "metadata": {
        "id": "TtvlCgA1BTzF"
      },
      "source": [
        "from pyspark.sql.types import IntegerType,BooleanType,DateType"
      ],
      "execution_count": 15,
      "outputs": []
    },
    {
      "cell_type": "code",
      "metadata": {
        "colab": {
          "base_uri": "https://localhost:8080/"
        },
        "id": "zJKl_G9kBwC3",
        "outputId": "1d38d502-9bf1-4065-c747-666b8e265a5d"
      },
      "source": [
        "caloriedf=caloriedf.withColumn(\"Gender\",caloriedf.Gender.cast(IntegerType()))\n",
        "caloriedf.show()\n",
        "caloriedf.printSchema()\n",
        "schema1=caloriedf.schema"
      ],
      "execution_count": 18,
      "outputs": [
        {
          "output_type": "stream",
          "name": "stdout",
          "text": [
            "+--------+------+---+------+------+--------+----------+---------+--------+\n",
            "| User_ID|Gender|Age|Height|Weight|Duration|Heart_Rate|Body_Temp|Calories|\n",
            "+--------+------+---+------+------+--------+----------+---------+--------+\n",
            "|14733363|     0| 68|   190|    94|      29|       105|     40.8|     231|\n",
            "|14861698|     1| 20|   166|    60|      14|        94|     40.3|      66|\n",
            "|11179863|     0| 69|   179|    79|       5|        88|     38.7|      26|\n",
            "|16180408|     1| 34|   179|    71|      13|       100|     40.5|      71|\n",
            "|17771927|     1| 27|   154|    58|      10|        81|     39.8|      35|\n",
            "|15130815|     1| 36|   151|    50|      23|        96|     40.7|     123|\n",
            "|19602372|     1| 33|   158|    56|      22|        95|     40.5|     112|\n",
            "|11117088|     0| 41|   175|    85|      25|       100|     40.7|     143|\n",
            "|12132339|     0| 60|   186|    94|      21|        97|     40.4|     134|\n",
            "|17964668|     1| 26|   146|    51|      16|        90|     40.2|      72|\n",
            "|13723164|     1| 36|   177|    76|       1|        74|     37.8|       3|\n",
            "|13681290|     1| 21|   157|    56|      17|       100|     40.0|      92|\n",
            "|15566424|     0| 66|   171|    79|      11|        90|     40.0|      58|\n",
            "|12891699|     1| 32|   157|    54|      18|        93|     40.4|      88|\n",
            "|13823829|     0| 53|   182|    85|       2|        82|     38.1|       7|\n",
            "|17557348|     1| 39|   156|    62|      28|       104|     40.8|     170|\n",
            "|12198133|     0| 39|   182|    82|       4|        82|     38.6|      11|\n",
            "|15236104|     0| 46|   169|    67|      11|        89|     40.2|      43|\n",
            "|11042324|     1| 27|   171|    65|       4|        85|     38.6|      15|\n",
            "|16864285|     0| 50|   188|    86|      14|        94|     40.2|      74|\n",
            "+--------+------+---+------+------+--------+----------+---------+--------+\n",
            "only showing top 20 rows\n",
            "\n",
            "root\n",
            " |-- User_ID: integer (nullable = true)\n",
            " |-- Gender: integer (nullable = true)\n",
            " |-- Age: integer (nullable = true)\n",
            " |-- Height: integer (nullable = true)\n",
            " |-- Weight: integer (nullable = true)\n",
            " |-- Duration: integer (nullable = true)\n",
            " |-- Heart_Rate: integer (nullable = true)\n",
            " |-- Body_Temp: double (nullable = true)\n",
            " |-- Calories: integer (nullable = true)\n",
            "\n"
          ]
        }
      ]
    },
    {
      "cell_type": "code",
      "metadata": {
        "id": "0UQpQTx1jkOc"
      },
      "source": [
        "from pyspark.ml.linalg import Vectors\n",
        "from pyspark.ml.feature import VectorAssembler"
      ],
      "execution_count": 19,
      "outputs": []
    },
    {
      "cell_type": "code",
      "metadata": {
        "id": "L-ZoUlv0Djy8"
      },
      "source": [
        "featureassembler=VectorAssembler(inputCols=[\"Gender\",\"Age\",\"Height\",\"Weight\",\"Duration\",\"Heart_Rate\",\"Body_Temp\"],outputCol=\"Independent Features\")"
      ],
      "execution_count": 20,
      "outputs": []
    },
    {
      "cell_type": "code",
      "metadata": {
        "id": "LOAHZcJSDuY2"
      },
      "source": [
        "output=featureassembler.transform(caloriedf)"
      ],
      "execution_count": 21,
      "outputs": []
    },
    {
      "cell_type": "code",
      "metadata": {
        "colab": {
          "base_uri": "https://localhost:8080/"
        },
        "id": "ZHDngOVzECMv",
        "outputId": "b7a22567-0157-458a-d66f-48a728826d25"
      },
      "source": [
        "output.show()"
      ],
      "execution_count": 22,
      "outputs": [
        {
          "output_type": "stream",
          "name": "stdout",
          "text": [
            "+--------+------+---+------+------+--------+----------+---------+--------+--------------------+\n",
            "| User_ID|Gender|Age|Height|Weight|Duration|Heart_Rate|Body_Temp|Calories|Independent Features|\n",
            "+--------+------+---+------+------+--------+----------+---------+--------+--------------------+\n",
            "|14733363|     0| 68|   190|    94|      29|       105|     40.8|     231|[0.0,68.0,190.0,9...|\n",
            "|14861698|     1| 20|   166|    60|      14|        94|     40.3|      66|[1.0,20.0,166.0,6...|\n",
            "|11179863|     0| 69|   179|    79|       5|        88|     38.7|      26|[0.0,69.0,179.0,7...|\n",
            "|16180408|     1| 34|   179|    71|      13|       100|     40.5|      71|[1.0,34.0,179.0,7...|\n",
            "|17771927|     1| 27|   154|    58|      10|        81|     39.8|      35|[1.0,27.0,154.0,5...|\n",
            "|15130815|     1| 36|   151|    50|      23|        96|     40.7|     123|[1.0,36.0,151.0,5...|\n",
            "|19602372|     1| 33|   158|    56|      22|        95|     40.5|     112|[1.0,33.0,158.0,5...|\n",
            "|11117088|     0| 41|   175|    85|      25|       100|     40.7|     143|[0.0,41.0,175.0,8...|\n",
            "|12132339|     0| 60|   186|    94|      21|        97|     40.4|     134|[0.0,60.0,186.0,9...|\n",
            "|17964668|     1| 26|   146|    51|      16|        90|     40.2|      72|[1.0,26.0,146.0,5...|\n",
            "|13723164|     1| 36|   177|    76|       1|        74|     37.8|       3|[1.0,36.0,177.0,7...|\n",
            "|13681290|     1| 21|   157|    56|      17|       100|     40.0|      92|[1.0,21.0,157.0,5...|\n",
            "|15566424|     0| 66|   171|    79|      11|        90|     40.0|      58|[0.0,66.0,171.0,7...|\n",
            "|12891699|     1| 32|   157|    54|      18|        93|     40.4|      88|[1.0,32.0,157.0,5...|\n",
            "|13823829|     0| 53|   182|    85|       2|        82|     38.1|       7|[0.0,53.0,182.0,8...|\n",
            "|17557348|     1| 39|   156|    62|      28|       104|     40.8|     170|[1.0,39.0,156.0,6...|\n",
            "|12198133|     0| 39|   182|    82|       4|        82|     38.6|      11|[0.0,39.0,182.0,8...|\n",
            "|15236104|     0| 46|   169|    67|      11|        89|     40.2|      43|[0.0,46.0,169.0,6...|\n",
            "|11042324|     1| 27|   171|    65|       4|        85|     38.6|      15|[1.0,27.0,171.0,6...|\n",
            "|16864285|     0| 50|   188|    86|      14|        94|     40.2|      74|[0.0,50.0,188.0,8...|\n",
            "+--------+------+---+------+------+--------+----------+---------+--------+--------------------+\n",
            "only showing top 20 rows\n",
            "\n"
          ]
        }
      ]
    },
    {
      "cell_type": "code",
      "metadata": {
        "colab": {
          "base_uri": "https://localhost:8080/"
        },
        "id": "UC2VGkPWEHcQ",
        "outputId": "d57afe9a-7707-4bb9-cd76-f3c5257c5415"
      },
      "source": [
        "output.select(\"Independent Features\").show()"
      ],
      "execution_count": 23,
      "outputs": [
        {
          "output_type": "stream",
          "name": "stdout",
          "text": [
            "+--------------------+\n",
            "|Independent Features|\n",
            "+--------------------+\n",
            "|[0.0,68.0,190.0,9...|\n",
            "|[1.0,20.0,166.0,6...|\n",
            "|[0.0,69.0,179.0,7...|\n",
            "|[1.0,34.0,179.0,7...|\n",
            "|[1.0,27.0,154.0,5...|\n",
            "|[1.0,36.0,151.0,5...|\n",
            "|[1.0,33.0,158.0,5...|\n",
            "|[0.0,41.0,175.0,8...|\n",
            "|[0.0,60.0,186.0,9...|\n",
            "|[1.0,26.0,146.0,5...|\n",
            "|[1.0,36.0,177.0,7...|\n",
            "|[1.0,21.0,157.0,5...|\n",
            "|[0.0,66.0,171.0,7...|\n",
            "|[1.0,32.0,157.0,5...|\n",
            "|[0.0,53.0,182.0,8...|\n",
            "|[1.0,39.0,156.0,6...|\n",
            "|[0.0,39.0,182.0,8...|\n",
            "|[0.0,46.0,169.0,6...|\n",
            "|[1.0,27.0,171.0,6...|\n",
            "|[0.0,50.0,188.0,8...|\n",
            "+--------------------+\n",
            "only showing top 20 rows\n",
            "\n"
          ]
        }
      ]
    },
    {
      "cell_type": "code",
      "metadata": {
        "colab": {
          "base_uri": "https://localhost:8080/"
        },
        "id": "6qd5nFrVEOOZ",
        "outputId": "44c4360a-fd98-4886-ec85-208badb6d132"
      },
      "source": [
        "output.columns"
      ],
      "execution_count": 24,
      "outputs": [
        {
          "output_type": "execute_result",
          "data": {
            "text/plain": [
              "['User_ID',\n",
              " 'Gender',\n",
              " 'Age',\n",
              " 'Height',\n",
              " 'Weight',\n",
              " 'Duration',\n",
              " 'Heart_Rate',\n",
              " 'Body_Temp',\n",
              " 'Calories',\n",
              " 'Independent Features']"
            ]
          },
          "metadata": {},
          "execution_count": 24
        }
      ]
    },
    {
      "cell_type": "code",
      "metadata": {
        "id": "UXxN-GeAERSh"
      },
      "source": [
        "finalized_data=output.select(\"Independent Features\",\"Calories\")"
      ],
      "execution_count": 25,
      "outputs": []
    },
    {
      "cell_type": "code",
      "metadata": {
        "colab": {
          "base_uri": "https://localhost:8080/"
        },
        "id": "AWQWRLI8EXAO",
        "outputId": "82c626ed-de25-4821-9746-3710c491c026"
      },
      "source": [
        "\n",
        "finalized_data.show()"
      ],
      "execution_count": 26,
      "outputs": [
        {
          "output_type": "stream",
          "name": "stdout",
          "text": [
            "+--------------------+--------+\n",
            "|Independent Features|Calories|\n",
            "+--------------------+--------+\n",
            "|[0.0,68.0,190.0,9...|     231|\n",
            "|[1.0,20.0,166.0,6...|      66|\n",
            "|[0.0,69.0,179.0,7...|      26|\n",
            "|[1.0,34.0,179.0,7...|      71|\n",
            "|[1.0,27.0,154.0,5...|      35|\n",
            "|[1.0,36.0,151.0,5...|     123|\n",
            "|[1.0,33.0,158.0,5...|     112|\n",
            "|[0.0,41.0,175.0,8...|     143|\n",
            "|[0.0,60.0,186.0,9...|     134|\n",
            "|[1.0,26.0,146.0,5...|      72|\n",
            "|[1.0,36.0,177.0,7...|       3|\n",
            "|[1.0,21.0,157.0,5...|      92|\n",
            "|[0.0,66.0,171.0,7...|      58|\n",
            "|[1.0,32.0,157.0,5...|      88|\n",
            "|[0.0,53.0,182.0,8...|       7|\n",
            "|[1.0,39.0,156.0,6...|     170|\n",
            "|[0.0,39.0,182.0,8...|      11|\n",
            "|[0.0,46.0,169.0,6...|      43|\n",
            "|[1.0,27.0,171.0,6...|      15|\n",
            "|[0.0,50.0,188.0,8...|      74|\n",
            "+--------------------+--------+\n",
            "only showing top 20 rows\n",
            "\n"
          ]
        }
      ]
    },
    {
      "cell_type": "code",
      "metadata": {
        "id": "pdrnZ6moEZxv"
      },
      "source": [
        "train_data,test_data=finalized_data.randomSplit([0.75,0.25])"
      ],
      "execution_count": 27,
      "outputs": []
    },
    {
      "cell_type": "code",
      "metadata": {
        "id": "KWi0WnM4Epiz"
      },
      "source": [
        "from pyspark.ml.regression import LinearRegression\n",
        "from pyspark.ml.evaluation import RegressionEvaluator"
      ],
      "execution_count": 28,
      "outputs": []
    },
    {
      "cell_type": "code",
      "metadata": {
        "id": "gwMDSMimEgn-"
      },
      "source": [
        "regressor=LinearRegression(featuresCol='Independent Features', labelCol='Calories')\n",
        "regressor=regressor.fit(train_data)"
      ],
      "execution_count": 29,
      "outputs": []
    },
    {
      "cell_type": "code",
      "metadata": {
        "colab": {
          "base_uri": "https://localhost:8080/"
        },
        "id": "VWClF4GyEkVB",
        "outputId": "9005077a-f8fa-4d51-e26d-04d970ecc2b5"
      },
      "source": [
        "regressor.coefficients"
      ],
      "execution_count": 30,
      "outputs": [
        {
          "output_type": "execute_result",
          "data": {
            "text/plain": [
              "DenseVector([1.4179, 0.4972, -0.1825, 0.3049, 6.6474, 1.9799, -16.959])"
            ]
          },
          "metadata": {},
          "execution_count": 30
        }
      ]
    },
    {
      "cell_type": "code",
      "metadata": {
        "colab": {
          "base_uri": "https://localhost:8080/"
        },
        "id": "z1z57BAgEuor",
        "outputId": "ba565703-d0f7-412b-b2b4-39995c773156"
      },
      "source": [
        "regressor.intercept"
      ],
      "execution_count": 31,
      "outputs": [
        {
          "output_type": "execute_result",
          "data": {
            "text/plain": [
              "462.98394994213777"
            ]
          },
          "metadata": {},
          "execution_count": 31
        }
      ]
    },
    {
      "cell_type": "code",
      "metadata": {
        "id": "xE8hvU2bEw2z"
      },
      "source": [
        "pred_results=regressor.evaluate(test_data)"
      ],
      "execution_count": 32,
      "outputs": []
    },
    {
      "cell_type": "code",
      "metadata": {
        "colab": {
          "base_uri": "https://localhost:8080/"
        },
        "id": "9mxm4I7NEy_O",
        "outputId": "dcc30285-a65e-4241-9cd0-a38557230af9"
      },
      "source": [
        "pred_results.predictions.show(40)"
      ],
      "execution_count": 33,
      "outputs": [
        {
          "output_type": "stream",
          "name": "stderr",
          "text": [
            "/usr/local/lib/python3.7/dist-packages/pyspark/sql/context.py:127: FutureWarning: Deprecated in 3.0.0. Use SparkSession.builder.getOrCreate() instead.\n",
            "  FutureWarning\n"
          ]
        },
        {
          "output_type": "stream",
          "name": "stdout",
          "text": [
            "+--------------------+--------+-------------------+\n",
            "|Independent Features|Calories|         prediction|\n",
            "+--------------------+--------+-------------------+\n",
            "|[0.0,20.0,167.0,6...|      35|  38.75702325659381|\n",
            "|[0.0,20.0,168.0,6...|      67|  80.62172812219279|\n",
            "|[0.0,20.0,169.0,7...|      87| 114.87811224258292|\n",
            "|[0.0,20.0,169.0,7...|      13| 15.820132986527199|\n",
            "|[0.0,20.0,170.0,7...|     185|  186.7324291015102|\n",
            "|[0.0,20.0,171.0,6...|      52|  60.45777488329594|\n",
            "|[0.0,20.0,172.0,7...|      77|  95.39757796744698|\n",
            "|[0.0,20.0,172.0,7...|      76|  93.43527391080283|\n",
            "|[0.0,20.0,172.0,7...|      27|   31.8343729530813|\n",
            "|[0.0,20.0,173.0,6...|      10|-2.1714036697510437|\n",
            "|[0.0,20.0,173.0,7...|       6| -6.331763335314463|\n",
            "|[0.0,20.0,173.0,7...|      31|  31.51233571198793|\n",
            "|[0.0,20.0,174.0,7...|      73|  90.38593555432021|\n",
            "|[0.0,20.0,174.0,7...|     163|  172.0449616215555|\n",
            "|[0.0,20.0,176.0,7...|      67|  77.61997402668925|\n",
            "|[0.0,20.0,178.0,7...|      47| 55.395482342540504|\n",
            "|[0.0,20.0,178.0,8...|      69|  79.08441847841056|\n",
            "|[0.0,20.0,179.0,7...|      36|   44.9347499522562|\n",
            "|[0.0,20.0,180.0,7...|      14|  8.535488224701226|\n",
            "|[0.0,20.0,180.0,8...|     159| 163.46523340741436|\n",
            "|[0.0,20.0,180.0,8...|     155| 173.56707697918984|\n",
            "|[0.0,20.0,181.0,7...|      63|  72.95782634295483|\n",
            "|[0.0,20.0,182.0,7...|      17| 23.767421995659788|\n",
            "|[0.0,20.0,182.0,8...|      60|  60.96336981624404|\n",
            "|[0.0,20.0,182.0,8...|     137| 158.70908288105772|\n",
            "|[0.0,20.0,183.0,8...|     167| 166.57254580254715|\n",
            "|[0.0,20.0,183.0,8...|      52| 63.551873060330706|\n",
            "|[0.0,20.0,183.0,8...|      69|  77.92682378623198|\n",
            "|[0.0,20.0,185.0,7...|      81|  96.73948461381201|\n",
            "|[0.0,20.0,186.0,8...|      15| 12.518806525314403|\n",
            "|[0.0,20.0,186.0,8...|     119| 153.98656967361927|\n",
            "|[0.0,20.0,186.0,9...|       9|-0.6682494054611539|\n",
            "|[0.0,20.0,187.0,9...|     139| 150.08055140481662|\n",
            "|[0.0,20.0,187.0,9...|      26|  26.66177931073429|\n",
            "|[0.0,20.0,189.0,8...|      12|-0.3814181948963551|\n",
            "|[0.0,20.0,189.0,9...|      38|  36.72592394782248|\n",
            "|[0.0,20.0,190.0,8...|       4|-23.545340370282076|\n",
            "|[0.0,20.0,190.0,8...|      31|   34.3594849143949|\n",
            "|[0.0,20.0,191.0,9...|      79| 104.24384226938838|\n",
            "|[0.0,20.0,192.0,9...|      92|  95.70478576164402|\n",
            "+--------------------+--------+-------------------+\n",
            "only showing top 40 rows\n",
            "\n"
          ]
        }
      ]
    },
    {
      "cell_type": "code",
      "metadata": {
        "id": "PHYPErOqJox6"
      },
      "source": [
        "\n",
        "from pyspark.ml.regression import RandomForestRegressor"
      ],
      "execution_count": 34,
      "outputs": []
    },
    {
      "cell_type": "code",
      "metadata": {
        "id": "xDKypv98DhSJ"
      },
      "source": [
        "randomforestregressor=RandomForestRegressor(featuresCol='Independent Features', labelCol='Calories')\n",
        "randomforestregressor=randomforestregressor.fit(train_data)"
      ],
      "execution_count": 35,
      "outputs": []
    },
    {
      "cell_type": "code",
      "metadata": {
        "id": "N_OXXIEwEAv5"
      },
      "source": [
        "forestpred=randomforestregressor.transform(test_data)"
      ],
      "execution_count": 36,
      "outputs": []
    },
    {
      "cell_type": "code",
      "metadata": {
        "colab": {
          "base_uri": "https://localhost:8080/"
        },
        "id": "l2x577XXJIlQ",
        "outputId": "2696d894-7620-43ff-bcda-9ab00341b73c"
      },
      "source": [
        "forestpred.show(40)"
      ],
      "execution_count": 37,
      "outputs": [
        {
          "output_type": "stream",
          "name": "stdout",
          "text": [
            "+--------------------+--------+------------------+\n",
            "|Independent Features|Calories|        prediction|\n",
            "+--------------------+--------+------------------+\n",
            "|[0.0,20.0,167.0,6...|      35| 56.83269435974432|\n",
            "|[0.0,20.0,168.0,6...|      67| 83.19164679951238|\n",
            "|[0.0,20.0,169.0,7...|      87|111.30080430521271|\n",
            "|[0.0,20.0,169.0,7...|      13|15.122008209268781|\n",
            "|[0.0,20.0,170.0,7...|     185|192.06346649897174|\n",
            "|[0.0,20.0,171.0,6...|      52| 70.42592385656957|\n",
            "|[0.0,20.0,172.0,7...|      77|104.18218130271855|\n",
            "|[0.0,20.0,172.0,7...|      76|  82.8902124711122|\n",
            "|[0.0,20.0,172.0,7...|      27| 39.47003892243929|\n",
            "|[0.0,20.0,173.0,6...|      10|15.874180749273496|\n",
            "|[0.0,20.0,173.0,7...|       6|10.534176607062353|\n",
            "|[0.0,20.0,173.0,7...|      31| 44.84843892817629|\n",
            "|[0.0,20.0,174.0,7...|      73| 86.91388636521819|\n",
            "|[0.0,20.0,174.0,7...|     163|179.01324070481132|\n",
            "|[0.0,20.0,176.0,7...|      67| 85.37456380279406|\n",
            "|[0.0,20.0,178.0,7...|      47| 60.66531739535215|\n",
            "|[0.0,20.0,178.0,8...|      69| 85.37456380279406|\n",
            "|[0.0,20.0,179.0,7...|      36| 57.00497867970854|\n",
            "|[0.0,20.0,180.0,7...|      14|24.986214786770464|\n",
            "|[0.0,20.0,180.0,8...|     159|173.64992638900688|\n",
            "|[0.0,20.0,180.0,8...|     155|167.55492334115857|\n",
            "|[0.0,20.0,181.0,7...|      63| 77.53343518920153|\n",
            "|[0.0,20.0,182.0,7...|      17| 51.80188909125892|\n",
            "|[0.0,20.0,182.0,8...|      60| 78.02609501327092|\n",
            "|[0.0,20.0,182.0,8...|     137| 164.2058197563804|\n",
            "|[0.0,20.0,183.0,8...|     167| 174.6850250570604|\n",
            "|[0.0,20.0,183.0,8...|      52| 66.80747680477842|\n",
            "|[0.0,20.0,183.0,8...|      69| 79.39422769571969|\n",
            "|[0.0,20.0,185.0,7...|      81|100.93724581812756|\n",
            "|[0.0,20.0,186.0,8...|      15| 17.36537591869537|\n",
            "|[0.0,20.0,186.0,8...|     119|128.61680804362413|\n",
            "|[0.0,20.0,186.0,9...|       9|13.654769223051707|\n",
            "|[0.0,20.0,187.0,9...|     139|161.43593794028294|\n",
            "|[0.0,20.0,187.0,9...|      26| 35.66227276943288|\n",
            "|[0.0,20.0,189.0,8...|      12| 20.82321074077937|\n",
            "|[0.0,20.0,189.0,9...|      38| 47.12099632941944|\n",
            "|[0.0,20.0,190.0,8...|       4|13.132951312097694|\n",
            "|[0.0,20.0,190.0,8...|      31|58.540145729181084|\n",
            "|[0.0,20.0,191.0,9...|      79|100.41212879312747|\n",
            "|[0.0,20.0,192.0,9...|      92|105.77614932562419|\n",
            "+--------------------+--------+------------------+\n",
            "only showing top 40 rows\n",
            "\n"
          ]
        }
      ]
    },
    {
      "cell_type": "code",
      "metadata": {
        "id": "7iTGlH7VEIbp"
      },
      "source": [
        "evaluator = RegressionEvaluator(\n",
        "    labelCol=\"Calories\", predictionCol=\"prediction\", metricName=\"rmse\")\n",
        "rmse = evaluator.evaluate(forestpred)"
      ],
      "execution_count": 38,
      "outputs": []
    },
    {
      "cell_type": "code",
      "metadata": {
        "colab": {
          "base_uri": "https://localhost:8080/"
        },
        "id": "xHxQK93BEVqj",
        "outputId": "1b12efad-ea8d-4098-8115-74fd9f638d1a"
      },
      "source": [
        "print(rmse)"
      ],
      "execution_count": 39,
      "outputs": [
        {
          "output_type": "stream",
          "name": "stdout",
          "text": [
            "9.7333660177579\n"
          ]
        }
      ]
    },
    {
      "cell_type": "code",
      "metadata": {
        "id": "kkL0fTlqIyAD"
      },
      "source": [
        "from pyspark.ml.regression import GBTRegressor"
      ],
      "execution_count": 40,
      "outputs": []
    },
    {
      "cell_type": "code",
      "metadata": {
        "id": "vkIuZ1JaLx0O"
      },
      "source": [
        "gbt=GBTRegressor(featuresCol='Independent Features', labelCol='Calories')"
      ],
      "execution_count": 41,
      "outputs": []
    },
    {
      "cell_type": "code",
      "metadata": {
        "id": "2ah0rYLLL5b6"
      },
      "source": [
        "gbt=gbt.fit(train_data)"
      ],
      "execution_count": 42,
      "outputs": []
    },
    {
      "cell_type": "code",
      "metadata": {
        "id": "O4FHwRfeL8k9"
      },
      "source": [
        "gbtpred=gbt.transform(test_data)"
      ],
      "execution_count": 43,
      "outputs": []
    },
    {
      "cell_type": "code",
      "metadata": {
        "colab": {
          "base_uri": "https://localhost:8080/"
        },
        "id": "a3isx_P1MILZ",
        "outputId": "2e151951-053a-4c5c-ac8b-c853bcd8a0ba"
      },
      "source": [
        "gbtpred.show()"
      ],
      "execution_count": 44,
      "outputs": [
        {
          "output_type": "stream",
          "name": "stdout",
          "text": [
            "+--------------------+--------+------------------+\n",
            "|Independent Features|Calories|        prediction|\n",
            "+--------------------+--------+------------------+\n",
            "|[0.0,20.0,167.0,6...|      35| 38.64360050660577|\n",
            "|[0.0,20.0,168.0,6...|      67| 75.98851858719823|\n",
            "|[0.0,20.0,169.0,7...|      87| 94.56050205477713|\n",
            "|[0.0,20.0,169.0,7...|      13|17.471556421903703|\n",
            "|[0.0,20.0,170.0,7...|     185|193.37338106054773|\n",
            "|[0.0,20.0,171.0,6...|      52|  53.7662004839616|\n",
            "|[0.0,20.0,172.0,7...|      77| 77.53369255629357|\n",
            "|[0.0,20.0,172.0,7...|      76| 75.98851858719823|\n",
            "|[0.0,20.0,172.0,7...|      27|22.178689488647795|\n",
            "|[0.0,20.0,173.0,6...|      10| 7.309334926006258|\n",
            "|[0.0,20.0,173.0,7...|       6| 6.106479278546047|\n",
            "|[0.0,20.0,173.0,7...|      31| 32.16461882214507|\n",
            "|[0.0,20.0,174.0,7...|      73| 74.98745714539551|\n",
            "|[0.0,20.0,174.0,7...|     163|183.09007696616635|\n",
            "|[0.0,20.0,176.0,7...|      67| 73.64290709179811|\n",
            "|[0.0,20.0,178.0,7...|      47|  53.7662004839616|\n",
            "|[0.0,20.0,178.0,8...|      69| 73.64290709179811|\n",
            "|[0.0,20.0,179.0,7...|      36| 38.64360050660577|\n",
            "|[0.0,20.0,180.0,7...|      14|18.064010900218268|\n",
            "|[0.0,20.0,180.0,8...|     159|161.55857525389212|\n",
            "+--------------------+--------+------------------+\n",
            "only showing top 20 rows\n",
            "\n"
          ]
        }
      ]
    },
    {
      "cell_type": "code",
      "metadata": {
        "id": "mG4YwuXjMPSW"
      },
      "source": [
        "evaluator = RegressionEvaluator(\n",
        "    labelCol=\"Calories\", predictionCol=\"prediction\", metricName=\"rmse\")\n",
        "rmse = evaluator.evaluate(gbtpred)"
      ],
      "execution_count": 45,
      "outputs": []
    },
    {
      "cell_type": "code",
      "metadata": {
        "colab": {
          "base_uri": "https://localhost:8080/"
        },
        "id": "2_JsvFlLMWjl",
        "outputId": "7f11aeef-8e86-4800-ebae-c8c7dd787e1f"
      },
      "source": [
        "rmse"
      ],
      "execution_count": 46,
      "outputs": [
        {
          "output_type": "execute_result",
          "data": {
            "text/plain": [
              "7.661184736153571"
            ]
          },
          "metadata": {},
          "execution_count": 46
        }
      ]
    },
    {
      "cell_type": "code",
      "metadata": {
        "id": "8wm1yG_eOcfq",
        "colab": {
          "base_uri": "https://localhost:8080/"
        },
        "outputId": "d8f1dd8e-fcfa-4bc4-d09d-30f398f1e271"
      },
      "source": [
        "print(type(gbt))"
      ],
      "execution_count": 47,
      "outputs": [
        {
          "output_type": "stream",
          "name": "stdout",
          "text": [
            "<class 'pyspark.ml.regression.GBTRegressionModel'>\n"
          ]
        }
      ]
    },
    {
      "cell_type": "code",
      "metadata": {
        "id": "RaTDIIkPPaW6"
      },
      "source": [
        "from pyspark.ml.regression import GBTRegressionModel"
      ],
      "execution_count": 48,
      "outputs": []
    },
    {
      "cell_type": "code",
      "metadata": {
        "id": "izW5Va1PSySf"
      },
      "source": [
        "gbt.save(\"modelfilefinal\")"
      ],
      "execution_count": 49,
      "outputs": []
    },
    {
      "cell_type": "code",
      "metadata": {
        "id": "38H4_kGVTwae"
      },
      "source": [
        "persistedModel = GBTRegressionModel.load(\"modelfilefinal\")"
      ],
      "execution_count": 50,
      "outputs": []
    },
    {
      "cell_type": "code",
      "metadata": {
        "id": "9AVaj99_b_ju"
      },
      "source": [
        "data=[[11117088,1,20,166,60,14,94,40.3,0]]\n",
        "rdd = spark.sparkContext.parallelize(data)"
      ],
      "execution_count": 72,
      "outputs": []
    },
    {
      "cell_type": "code",
      "metadata": {
        "id": "Y_VmVuqSeETg"
      },
      "source": [
        "\n",
        "df = spark.createDataFrame(rdd,schema1)"
      ],
      "execution_count": 73,
      "outputs": []
    },
    {
      "cell_type": "code",
      "metadata": {
        "colab": {
          "base_uri": "https://localhost:8080/"
        },
        "id": "-ZFlx2jTeLUD",
        "outputId": "c1d560b5-3f78-4c8d-98c2-120de91da687"
      },
      "source": [
        "df.show()"
      ],
      "execution_count": 74,
      "outputs": [
        {
          "output_type": "stream",
          "name": "stdout",
          "text": [
            "+--------+------+---+------+------+--------+----------+---------+--------+\n",
            "| User_ID|Gender|Age|Height|Weight|Duration|Heart_Rate|Body_Temp|Calories|\n",
            "+--------+------+---+------+------+--------+----------+---------+--------+\n",
            "|11117088|     1| 20|   166|    60|      14|        94|     40.3|       0|\n",
            "+--------+------+---+------+------+--------+----------+---------+--------+\n",
            "\n"
          ]
        }
      ]
    },
    {
      "cell_type": "code",
      "metadata": {
        "id": "CYvavGUbermd"
      },
      "source": [
        "df1=featureassembler.transform(df)"
      ],
      "execution_count": 75,
      "outputs": []
    },
    {
      "cell_type": "code",
      "metadata": {
        "colab": {
          "base_uri": "https://localhost:8080/"
        },
        "id": "Wy-Mmc1de4fS",
        "outputId": "adaf4f8c-ca60-4777-8299-b50c6640daba"
      },
      "source": [
        "df1.show()"
      ],
      "execution_count": 76,
      "outputs": [
        {
          "output_type": "stream",
          "name": "stdout",
          "text": [
            "+--------+------+---+------+------+--------+----------+---------+--------+--------------------+\n",
            "| User_ID|Gender|Age|Height|Weight|Duration|Heart_Rate|Body_Temp|Calories|Independent Features|\n",
            "+--------+------+---+------+------+--------+----------+---------+--------+--------------------+\n",
            "|11117088|     1| 20|   166|    60|      14|        94|     40.3|       0|[1.0,20.0,166.0,6...|\n",
            "+--------+------+---+------+------+--------+----------+---------+--------+--------------------+\n",
            "\n"
          ]
        }
      ]
    },
    {
      "cell_type": "code",
      "metadata": {
        "colab": {
          "base_uri": "https://localhost:8080/"
        },
        "id": "i11W24MXe7ti",
        "outputId": "c04f9a02-237c-4b83-f816-6475c275eb1a"
      },
      "source": [
        "persistedModel.transform(df1).show()"
      ],
      "execution_count": 77,
      "outputs": [
        {
          "output_type": "stream",
          "name": "stdout",
          "text": [
            "+--------+------+---+------+------+--------+----------+---------+--------+--------------------+-----------------+\n",
            "| User_ID|Gender|Age|Height|Weight|Duration|Heart_Rate|Body_Temp|Calories|Independent Features|       prediction|\n",
            "+--------+------+---+------+------+--------+----------+---------+--------+--------------------+-----------------+\n",
            "|11117088|     1| 20|   166|    60|      14|        94|     40.3|       0|[1.0,20.0,166.0,6...|67.11743156442007|\n",
            "+--------+------+---+------+------+--------+----------+---------+--------+--------------------+-----------------+\n",
            "\n"
          ]
        }
      ]
    },
    {
      "cell_type": "code",
      "metadata": {
        "colab": {
          "base_uri": "https://localhost:8080/"
        },
        "id": "8EQV63sKRNEl",
        "outputId": "67495e2b-d0a8-4fc4-f7c6-03ef0d95eb07"
      },
      "source": [
        "persistedModel"
      ],
      "execution_count": 78,
      "outputs": [
        {
          "output_type": "execute_result",
          "data": {
            "text/plain": [
              "GBTRegressionModel: uid=GBTRegressor_7371f8fff203, numTrees=20, numFeatures=7"
            ]
          },
          "metadata": {},
          "execution_count": 78
        }
      ]
    },
    {
      "cell_type": "code",
      "metadata": {
        "id": "CpTMm5tlT2Yz"
      },
      "source": [
        ""
      ],
      "execution_count": 78,
      "outputs": []
    },
    {
      "cell_type": "code",
      "metadata": {
        "id": "nryC5rXgQXkD"
      },
      "source": [
        "gbtpred_pd=gbtpred.toPandas()"
      ],
      "execution_count": 81,
      "outputs": []
    },
    {
      "cell_type": "code",
      "metadata": {
        "colab": {
          "base_uri": "https://localhost:8080/"
        },
        "id": "1EiCHsvbiQX3",
        "outputId": "dfad8bed-ac3f-4630-a4f0-8588266cd0ac"
      },
      "source": [
        "gbtpred_pd['prediction'].min()"
      ],
      "execution_count": 87,
      "outputs": [
        {
          "output_type": "execute_result",
          "data": {
            "text/plain": [
              "-0.5865514406717729"
            ]
          },
          "metadata": {},
          "execution_count": 87
        }
      ]
    },
    {
      "cell_type": "code",
      "metadata": {
        "colab": {
          "base_uri": "https://localhost:8080/",
          "height": 234
        },
        "id": "cf5hY8TfiaAu",
        "outputId": "d4a535ef-a154-4295-f893-e32c87f35883"
      },
      "source": [
        "gbtpred_pd[gbtpred_pd[\"prediction\"]<0]"
      ],
      "execution_count": 89,
      "outputs": [
        {
          "output_type": "execute_result",
          "data": {
            "text/html": [
              "<div>\n",
              "<style scoped>\n",
              "    .dataframe tbody tr th:only-of-type {\n",
              "        vertical-align: middle;\n",
              "    }\n",
              "\n",
              "    .dataframe tbody tr th {\n",
              "        vertical-align: top;\n",
              "    }\n",
              "\n",
              "    .dataframe thead th {\n",
              "        text-align: right;\n",
              "    }\n",
              "</style>\n",
              "<table border=\"1\" class=\"dataframe\">\n",
              "  <thead>\n",
              "    <tr style=\"text-align: right;\">\n",
              "      <th></th>\n",
              "      <th>Independent Features</th>\n",
              "      <th>Calories</th>\n",
              "      <th>prediction</th>\n",
              "    </tr>\n",
              "  </thead>\n",
              "  <tbody>\n",
              "    <tr>\n",
              "      <th>63</th>\n",
              "      <td>[0.0, 21.0, 175.0, 78.0, 2.0, 81.0, 38.3]</td>\n",
              "      <td>3</td>\n",
              "      <td>-0.451252</td>\n",
              "    </tr>\n",
              "    <tr>\n",
              "      <th>195</th>\n",
              "      <td>[0.0, 23.0, 175.0, 82.0, 2.0, 92.0, 38.4]</td>\n",
              "      <td>7</td>\n",
              "      <td>-0.586551</td>\n",
              "    </tr>\n",
              "    <tr>\n",
              "      <th>205</th>\n",
              "      <td>[0.0, 23.0, 182.0, 82.0, 2.0, 79.0, 38.2]</td>\n",
              "      <td>3</td>\n",
              "      <td>-0.496297</td>\n",
              "    </tr>\n",
              "    <tr>\n",
              "      <th>210</th>\n",
              "      <td>[0.0, 23.0, 183.0, 81.0, 2.0, 76.0, 38.0]</td>\n",
              "      <td>2</td>\n",
              "      <td>-0.369650</td>\n",
              "    </tr>\n",
              "    <tr>\n",
              "      <th>239</th>\n",
              "      <td>[0.0, 24.0, 160.0, 61.0, 1.0, 77.0, 37.7]</td>\n",
              "      <td>1</td>\n",
              "      <td>-0.484252</td>\n",
              "    </tr>\n",
              "    <tr>\n",
              "      <th>275</th>\n",
              "      <td>[0.0, 24.0, 189.0, 91.0, 1.0, 78.0, 37.7]</td>\n",
              "      <td>2</td>\n",
              "      <td>-0.140069</td>\n",
              "    </tr>\n",
              "  </tbody>\n",
              "</table>\n",
              "</div>"
            ],
            "text/plain": [
              "                          Independent Features  Calories  prediction\n",
              "63   [0.0, 21.0, 175.0, 78.0, 2.0, 81.0, 38.3]         3   -0.451252\n",
              "195  [0.0, 23.0, 175.0, 82.0, 2.0, 92.0, 38.4]         7   -0.586551\n",
              "205  [0.0, 23.0, 182.0, 82.0, 2.0, 79.0, 38.2]         3   -0.496297\n",
              "210  [0.0, 23.0, 183.0, 81.0, 2.0, 76.0, 38.0]         2   -0.369650\n",
              "239  [0.0, 24.0, 160.0, 61.0, 1.0, 77.0, 37.7]         1   -0.484252\n",
              "275  [0.0, 24.0, 189.0, 91.0, 1.0, 78.0, 37.7]         2   -0.140069"
            ]
          },
          "metadata": {},
          "execution_count": 89
        }
      ]
    },
    {
      "cell_type": "code",
      "metadata": {
        "colab": {
          "base_uri": "https://localhost:8080/"
        },
        "id": "CDBTwq2TjkEY",
        "outputId": "35d1038a-a768-4d14-b4e8-c284b3960f5a"
      },
      "source": [
        "caloriedf.printSchema()"
      ],
      "execution_count": 92,
      "outputs": [
        {
          "output_type": "stream",
          "name": "stdout",
          "text": [
            "root\n",
            " |-- User_ID: integer (nullable = true)\n",
            " |-- Gender: integer (nullable = true)\n",
            " |-- Age: integer (nullable = true)\n",
            " |-- Height: integer (nullable = true)\n",
            " |-- Weight: integer (nullable = true)\n",
            " |-- Duration: integer (nullable = true)\n",
            " |-- Heart_Rate: integer (nullable = true)\n",
            " |-- Body_Temp: double (nullable = true)\n",
            " |-- Calories: integer (nullable = true)\n",
            "\n"
          ]
        }
      ]
    },
    {
      "cell_type": "code",
      "metadata": {
        "id": "sjlJLCUNjy4i"
      },
      "source": [
        ""
      ],
      "execution_count": null,
      "outputs": []
    }
  ]
}